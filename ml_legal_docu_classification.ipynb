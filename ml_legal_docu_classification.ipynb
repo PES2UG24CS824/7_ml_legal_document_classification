{
  "nbformat": 4,
  "nbformat_minor": 0,
  "metadata": {
    "colab": {
      "provenance": []
    },
    "kernelspec": {
      "name": "python3",
      "display_name": "Python 3"
    },
    "language_info": {
      "name": "python"
    }
  },
  "cells": [
    {
      "cell_type": "code",
      "source": [
        "# Install necessary libraries\n",
        "!pip install scikit-learn pandas numpy matplotlib seaborn nltk openpyxl\n",
        "\n",
        "# Import libraries\n",
        "import pandas as pd\n",
        "import numpy as np\n",
        "import re\n",
        "import nltk\n",
        "from nltk.corpus import stopwords\n",
        "from nltk.stem import WordNetLemmatizer\n",
        "from sklearn.model_selection import train_test_split\n",
        "from sklearn.feature_extraction.text import TfidfVectorizer\n",
        "from sklearn.svm import SVC\n",
        "from sklearn.metrics import accuracy_score, classification_report, confusion_matrix\n",
        "import matplotlib.pyplot as plt\n",
        "import seaborn as sns\n",
        "\n",
        "# Download NLTK resources\n",
        "nltk.download('stopwords', quiet=True)\n",
        "nltk.download('wordnet', quiet=True)\n",
        "\n",
        "# ----------------------------------------------------------------------\n",
        "# ⚠️ DATA LOADING INSTRUCTIONS:\n",
        "# 1. Click the 'Files' icon on the left sidebar in Google Colab.\n",
        "# 2. Upload your data file (e.g., 'my_legal_data.csv' or 'my_legal_data.xlsx').\n",
        "# 3. Ensure your file has two columns: 'text' (for document content) and 'category' (for the label).\n",
        "# 4. Change the 'FILE_NAME' below to match your uploaded file.\n",
        "# ----------------------------------------------------------------------\n",
        "\n",
        "FILE_NAME = 'legal_data.csv' # ⬅️ CHANGE THIS TO YOUR FILE NAME!\n",
        "\n",
        "try:\n",
        "    if FILE_NAME.endswith('.csv'):\n",
        "        df = pd.read_csv(FILE_NAME)\n",
        "    elif FILE_NAME.endswith(('.xls', '.xlsx')):\n",
        "        # You need the 'openpyxl' library installed (included in the first install line)\n",
        "        df = pd.read_excel(FILE_NAME)\n",
        "    else:\n",
        "        raise ValueError(\"Unsupported file type.\")\n",
        "\n",
        "    # Simple check to ensure required columns exist\n",
        "    if 'text' not in df.columns or 'category' not in df.columns:\n",
        "        raise ValueError(\"File must contain 'text' and 'category' columns.\")\n",
        "\n",
        "    print(f\"Data successfully loaded from '{FILE_NAME}'.\")\n",
        "\n",
        "except (FileNotFoundError, ValueError) as e:\n",
        "    print(f\"Error loading data file: {e}. Using sample dictionary data instead.\")\n",
        "    # FALLBACK SAMPLE DATA (if file load fails)\n",
        "    data = {\n",
        "        'text': [\n",
        "            \"This contract agreement is made for the sale of goods between both parties and is valid for one year.\",\n",
        "            \"The Supreme Court ruled that the previous appellate decision is reversed and remanded for further action.\",\n",
        "            \"Notice is hereby served that the lease on property 4B shall terminate in 30 days due to non-payment.\",\n",
        "            \"The appellate court, relying on Smith v. Jones, stated that precedent dictates the ruling must be upheld.\",\n",
        "            \"We, the undersigned, agree to the terms of this non-disclosure employment agreement effective immediately.\",\n",
        "            \"This case involves a review of the summary judgment granted by the lower court on matters of fact.\",\n",
        "            \"Please take notice of the impending changes to the company's official travel policy, starting next month.\",\n",
        "            \"In accordance with established case law, the plaintiff's argument holds no legal standing.\",\n",
        "            \"An indemnification clause protects a party from liability arising from third-party claims under this contract.\",\n",
        "            \"The court hereby enters a final decision on the 15th day of October, finding in favor of the defendant.\",\n",
        "            \"Final notice of pending litigation will be sent to all shareholders by certified mail this week.\",\n",
        "            \"Legal precedent from the landmark case Brown v. Board is controlling in this jurisdiction.\",\n",
        "        ],\n",
        "        'category': [\n",
        "            'Contract', 'Judgment', 'Notice', 'Case Law',\n",
        "            'Contract', 'Judgment', 'Notice', 'Case Law',\n",
        "            'Contract', 'Judgment', 'Notice', 'Case Law'\n",
        "        ]\n",
        "    }\n",
        "    df = pd.DataFrame(data)\n",
        "\n",
        "\n",
        "print(f\"Total samples loaded: {len(df)}\")\n",
        "print(\"Data Head:\")\n",
        "print(df.head())"
      ],
      "metadata": {
        "colab": {
          "base_uri": "https://localhost:8080/"
        },
        "id": "_3Lxnlfjf5yX",
        "outputId": "136f0d7d-7e41-4773-e007-190f64045dd0"
      },
      "execution_count": null,
      "outputs": [
        {
          "output_type": "stream",
          "name": "stdout",
          "text": [
            "Requirement already satisfied: scikit-learn in /usr/local/lib/python3.12/dist-packages (1.6.1)\n",
            "Requirement already satisfied: pandas in /usr/local/lib/python3.12/dist-packages (2.2.2)\n",
            "Requirement already satisfied: numpy in /usr/local/lib/python3.12/dist-packages (2.0.2)\n",
            "Requirement already satisfied: matplotlib in /usr/local/lib/python3.12/dist-packages (3.10.0)\n",
            "Requirement already satisfied: seaborn in /usr/local/lib/python3.12/dist-packages (0.13.2)\n",
            "Requirement already satisfied: nltk in /usr/local/lib/python3.12/dist-packages (3.9.1)\n",
            "Requirement already satisfied: openpyxl in /usr/local/lib/python3.12/dist-packages (3.1.5)\n",
            "Requirement already satisfied: scipy>=1.6.0 in /usr/local/lib/python3.12/dist-packages (from scikit-learn) (1.16.2)\n",
            "Requirement already satisfied: joblib>=1.2.0 in /usr/local/lib/python3.12/dist-packages (from scikit-learn) (1.5.2)\n",
            "Requirement already satisfied: threadpoolctl>=3.1.0 in /usr/local/lib/python3.12/dist-packages (from scikit-learn) (3.6.0)\n",
            "Requirement already satisfied: python-dateutil>=2.8.2 in /usr/local/lib/python3.12/dist-packages (from pandas) (2.9.0.post0)\n",
            "Requirement already satisfied: pytz>=2020.1 in /usr/local/lib/python3.12/dist-packages (from pandas) (2025.2)\n",
            "Requirement already satisfied: tzdata>=2022.7 in /usr/local/lib/python3.12/dist-packages (from pandas) (2025.2)\n",
            "Requirement already satisfied: contourpy>=1.0.1 in /usr/local/lib/python3.12/dist-packages (from matplotlib) (1.3.3)\n",
            "Requirement already satisfied: cycler>=0.10 in /usr/local/lib/python3.12/dist-packages (from matplotlib) (0.12.1)\n",
            "Requirement already satisfied: fonttools>=4.22.0 in /usr/local/lib/python3.12/dist-packages (from matplotlib) (4.60.1)\n",
            "Requirement already satisfied: kiwisolver>=1.3.1 in /usr/local/lib/python3.12/dist-packages (from matplotlib) (1.4.9)\n",
            "Requirement already satisfied: packaging>=20.0 in /usr/local/lib/python3.12/dist-packages (from matplotlib) (25.0)\n",
            "Requirement already satisfied: pillow>=8 in /usr/local/lib/python3.12/dist-packages (from matplotlib) (11.3.0)\n",
            "Requirement already satisfied: pyparsing>=2.3.1 in /usr/local/lib/python3.12/dist-packages (from matplotlib) (3.2.5)\n",
            "Requirement already satisfied: click in /usr/local/lib/python3.12/dist-packages (from nltk) (8.3.0)\n",
            "Requirement already satisfied: regex>=2021.8.3 in /usr/local/lib/python3.12/dist-packages (from nltk) (2024.11.6)\n",
            "Requirement already satisfied: tqdm in /usr/local/lib/python3.12/dist-packages (from nltk) (4.67.1)\n",
            "Requirement already satisfied: et-xmlfile in /usr/local/lib/python3.12/dist-packages (from openpyxl) (2.0.0)\n",
            "Requirement already satisfied: six>=1.5 in /usr/local/lib/python3.12/dist-packages (from python-dateutil>=2.8.2->pandas) (1.17.0)\n",
            "Error loading data file: [Errno 2] No such file or directory: 'legal_data.csv'. Using sample dictionary data instead.\n",
            "Total samples loaded: 12\n",
            "Data Head:\n",
            "                                                text  category\n",
            "0  This contract agreement is made for the sale o...  Contract\n",
            "1  The Supreme Court ruled that the previous appe...  Judgment\n",
            "2  Notice is hereby served that the lease on prop...    Notice\n",
            "3  The appellate court, relying on Smith v. Jones...  Case Law\n",
            "4  We, the undersigned, agree to the terms of thi...  Contract\n"
          ]
        }
      ]
    },
    {
      "cell_type": "code",
      "source": [
        "print(\"--- Data Preprocessing Explanation ---\")\n",
        "print(\"1. **Cleaning**: Legal texts are converted to lowercase and stripped of punctuation/numbers to normalize the data.\")\n",
        "print(\"2. **Stopword Removal**: Common, non-informative words (e.g., 'the', 'is', 'a') are removed, as they don't help distinguish document categories.\")\n",
        "print(\"3. **Lemmatization**: Words are reduced to their root form (e.g., 'agreements' becomes 'agreement'). This reduces feature size and helps the model generalize better.\")\n",
        "print(\"\\nThese steps ensure the text is clean and focused on content-bearing terms before numerical conversion.\")"
      ],
      "metadata": {
        "colab": {
          "base_uri": "https://localhost:8080/"
        },
        "id": "YNJQ-xrrf_GP",
        "outputId": "307c72b0-a8b5-4735-b509-3fee98ae27dd"
      },
      "execution_count": null,
      "outputs": [
        {
          "output_type": "stream",
          "name": "stdout",
          "text": [
            "--- Data Preprocessing Explanation ---\n",
            "1. **Cleaning**: Legal texts are converted to lowercase and stripped of punctuation/numbers to normalize the data.\n",
            "2. **Stopword Removal**: Common, non-informative words (e.g., 'the', 'is', 'a') are removed, as they don't help distinguish document categories.\n",
            "3. **Lemmatization**: Words are reduced to their root form (e.g., 'agreements' becomes 'agreement'). This reduces feature size and helps the model generalize better.\n",
            "\n",
            "These steps ensure the text is clean and focused on content-bearing terms before numerical conversion.\n"
          ]
        }
      ]
    },
    {
      "cell_type": "code",
      "source": [
        "# Initialize NLP tools\n",
        "lemmatizer = WordNetLemmatizer()\n",
        "stop_words = set(stopwords.words('english'))\n",
        "\n",
        "def preprocess_text(text):\n",
        "    \"\"\"Applies cleaning, stopword removal, and lemmatization.\"\"\"\n",
        "    text = text.lower()\n",
        "    # Remove special characters and numbers\n",
        "    text = re.sub(r'[^a-z\\s]', '', text)\n",
        "\n",
        "    # Lemmatize and remove stop words\n",
        "    text = ' '.join(\n",
        "        lemmatizer.lemmatize(word)\n",
        "        for word in text.split()\n",
        "        if word not in stop_words and len(word) > 2\n",
        "    )\n",
        "    return text\n",
        "\n",
        "# Apply preprocessing\n",
        "df['cleaned_text'] = df['text'].apply(preprocess_text)\n",
        "\n",
        "print(\"Data Preprocessing Complete. Cleaned Data Sample:\")\n",
        "print(df[['text', 'cleaned_text', 'category']].head())"
      ],
      "metadata": {
        "colab": {
          "base_uri": "https://localhost:8080/"
        },
        "id": "WfojV5_KgEy-",
        "outputId": "047382e4-320c-46ee-8e8e-c65135d81cb5"
      },
      "execution_count": null,
      "outputs": [
        {
          "output_type": "stream",
          "name": "stdout",
          "text": [
            "Data Preprocessing Complete. Cleaned Data Sample:\n",
            "                                                text  \\\n",
            "0  This contract agreement is made for the sale o...   \n",
            "1  The Supreme Court ruled that the previous appe...   \n",
            "2  Notice is hereby served that the lease on prop...   \n",
            "3  The appellate court, relying on Smith v. Jones...   \n",
            "4  We, the undersigned, agree to the terms of thi...   \n",
            "\n",
            "                                        cleaned_text  category  \n",
            "0  contract agreement made sale good party valid ...  Contract  \n",
            "1  supreme court ruled previous appellate decisio...  Judgment  \n",
            "2  notice hereby served lease property shall term...    Notice  \n",
            "3  appellate court relying smith jones stated pre...  Case Law  \n",
            "4  undersigned agree term nondisclosure employmen...  Contract  \n"
          ]
        }
      ]
    },
    {
      "cell_type": "code",
      "source": [
        "print(\"--- Feature Extraction and Model Training Explanation ---\")\n",
        "print(\"1. **TF-IDF (Term Frequency-Inverse Document Frequency)**: This technique converts the cleaned text into numerical vectors.\")\n",
        "print(\"   - It weighs words based on how frequently they appear in a document (**TF**) versus how rare they are across all documents (**IDF**).\")\n",
        "print(\"   - Words highly specific to a legal category (e.g., 'arbitration' in Contract) receive a higher score.\")\n",
        "print(\"2. **Data Split**: The dataset is split into 70% for training (model learning) and 30% for testing (model evaluation). The `stratify` parameter ensures an equal representation of all categories in both sets.\")\n",
        "print(\"3. **SVM (Support Vector Machine) Training**: SVM works by finding an optimal boundary (hyperplane) that maximally separates the data points (documents) belonging to different categories in the high-dimensional TF-IDF space.\")"
      ],
      "metadata": {
        "colab": {
          "base_uri": "https://localhost:8080/"
        },
        "id": "Nuy7elZzgPGh",
        "outputId": "dce710db-ca29-4512-8af8-3e0cb8148c8a"
      },
      "execution_count": null,
      "outputs": [
        {
          "output_type": "stream",
          "name": "stdout",
          "text": [
            "--- Feature Extraction and Model Training Explanation ---\n",
            "1. **TF-IDF (Term Frequency-Inverse Document Frequency)**: This technique converts the cleaned text into numerical vectors.\n",
            "   - It weighs words based on how frequently they appear in a document (**TF**) versus how rare they are across all documents (**IDF**).\n",
            "   - Words highly specific to a legal category (e.g., 'arbitration' in Contract) receive a higher score.\n",
            "2. **Data Split**: The dataset is split into 70% for training (model learning) and 30% for testing (model evaluation). The `stratify` parameter ensures an equal representation of all categories in both sets.\n",
            "3. **SVM (Support Vector Machine) Training**: SVM works by finding an optimal boundary (hyperplane) that maximally separates the data points (documents) belonging to different categories in the high-dimensional TF-IDF space.\n"
          ]
        }
      ]
    },
    {
      "cell_type": "code",
      "source": [
        "# 1. Split data into training and testing sets\n",
        "X = df['cleaned_text']\n",
        "y = df['category']\n",
        "\n",
        "# Use 70% for training and 30% for testing\n",
        "X_train, X_test, y_train, y_test = train_test_split(\n",
        "    X, y, test_size=0.3, random_state=42, stratify=y\n",
        ")\n",
        "\n",
        "print(f\"Training samples: {len(X_train)}\")\n",
        "print(f\"Testing samples: {len(X_test)}\")\n",
        "\n",
        "# 2. Initialize and Fit the TF-IDF Vectorizer\n",
        "tfidf_vectorizer = TfidfVectorizer(max_features=1000)\n",
        "X_train_tfidf = tfidf_vectorizer.fit_transform(X_train)\n",
        "X_test_tfidf = tfidf_vectorizer.transform(X_test)\n",
        "\n",
        "print(\"TF-IDF Vectorizer Trained.\")\n",
        "print(f\"Training feature set size: {X_train_tfidf.shape[1]} features.\")\n",
        "\n",
        "# 3. Train the SVM Model\n",
        "print(\"\\nStarting SVM Model Training...\")\n",
        "svm_model = SVC(kernel='linear', C=1.0, random_state=42)\n",
        "svm_model.fit(X_train_tfidf, y_train)\n",
        "print(\"Model Training Complete.\")\n",
        "\n",
        "# 4. Predictions on Test Set\n",
        "y_pred = svm_model.predict(X_test_tfidf)"
      ],
      "metadata": {
        "colab": {
          "base_uri": "https://localhost:8080/"
        },
        "id": "2dDKQEwsgYDn",
        "outputId": "362c5042-d1f7-40af-80f8-4c6a66d50c43"
      },
      "execution_count": null,
      "outputs": [
        {
          "output_type": "stream",
          "name": "stdout",
          "text": [
            "Training samples: 8\n",
            "Testing samples: 4\n",
            "TF-IDF Vectorizer Trained.\n",
            "Training feature set size: 72 features.\n",
            "\n",
            "Starting SVM Model Training...\n",
            "Model Training Complete.\n"
          ]
        }
      ]
    },
    {
      "cell_type": "code",
      "source": [
        "print(\"--- Model Evaluation Metrics ---\")\n",
        "\n",
        "# Calculate overall accuracy\n",
        "overall_accuracy = accuracy_score(y_test, y_pred)\n",
        "print(f\"Overall Model Accuracy: {overall_accuracy:.4f}\")\n",
        "\n",
        "# Display Precision, Recall, and F1-score for each class\n",
        "report = classification_report(y_test, y_pred, zero_division=0, output_dict=True)\n",
        "\n",
        "print(\"\\nDetailed Metrics per Category:\")\n",
        "metrics_df = pd.DataFrame(report).transpose()\n",
        "\n",
        "# Display F1-Score, Recall, Precision, and support only\n",
        "print(metrics_df[['f1-score', 'recall', 'precision']].round(4))\n",
        "\n",
        "print(\"\\n--- Metric Definitions ---\")\n",
        "print(\" - **Accuracy**: Overall ratio of correct predictions to total predictions.\")\n",
        "print(\" - **Precision**: Out of all documents predicted as a category, how many were actually correct.\")\n",
        "print(\" - **Recall**: Out of all true documents of a category, how many did the model correctly find.\")\n",
        "print(\" - **F1-Score**: The harmonic mean of Precision and Recall, providing a single metric that balances both.\")\n"
      ],
      "metadata": {
        "colab": {
          "base_uri": "https://localhost:8080/"
        },
        "id": "B3tv8N4-ggQe",
        "outputId": "dd8ac260-9b1d-4525-e6a9-1c7367296727"
      },
      "execution_count": null,
      "outputs": [
        {
          "output_type": "stream",
          "name": "stdout",
          "text": [
            "--- Model Evaluation Metrics ---\n",
            "Overall Model Accuracy: 1.0000\n",
            "\n",
            "Detailed Metrics per Category:\n",
            "              f1-score  recall  precision\n",
            "Case Law           1.0     1.0        1.0\n",
            "Contract           1.0     1.0        1.0\n",
            "Judgment           1.0     1.0        1.0\n",
            "Notice             1.0     1.0        1.0\n",
            "accuracy           1.0     1.0        1.0\n",
            "macro avg          1.0     1.0        1.0\n",
            "weighted avg       1.0     1.0        1.0\n",
            "\n",
            "--- Metric Definitions ---\n",
            " - **Accuracy**: Overall ratio of correct predictions to total predictions.\n",
            " - **Precision**: Out of all documents predicted as a category, how many were actually correct.\n",
            " - **Recall**: Out of all true documents of a category, how many did the model correctly find.\n",
            " - **F1-Score**: The harmonic mean of Precision and Recall, providing a single metric that balances both.\n"
          ]
        }
      ]
    },
    {
      "cell_type": "code",
      "source": [
        "print(\"--- Confusion Matrix Visualization ---\")\n",
        "\n",
        "# Calculate the confusion matrix\n",
        "cm = confusion_matrix(y_test, y_pred, labels=svm_model.classes_)\n",
        "\n",
        "# Plot the matrix\n",
        "plt.figure(figsize=(8, 6))\n",
        "sns.heatmap(cm, annot=True, fmt='d', cmap='Blues',\n",
        "            xticklabels=svm_model.classes_, yticklabels=svm_model.classes_)\n",
        "\n",
        "plt.title('Confusion Matrix: Actual vs. Predicted Categories')\n",
        "plt.ylabel('Actual Category')\n",
        "plt.xlabel('Predicted Category')\n",
        "plt.show() # Display the confusion matrix graph\n",
        "\n",
        "print(\"\\nConfusion Matrix Explained:\")\n",
        "print(\" - The diagonal cells (top-left to bottom-right) represent **CORRECT** predictions.\")\n",
        "print(\" - The off-diagonal cells represent **INCORRECT** predictions (e.g., a 'Judgment' document predicted as 'Notice').\")"
      ],
      "metadata": {
        "colab": {
          "base_uri": "https://localhost:8080/",
          "height": 651
        },
        "id": "bnrMMoT5gnc7",
        "outputId": "402d9da6-4d90-4dba-b066-0655d1f03219"
      },
      "execution_count": null,
      "outputs": [
        {
          "output_type": "stream",
          "name": "stdout",
          "text": [
            "--- Confusion Matrix Visualization ---\n"
          ]
        },
        {
          "output_type": "display_data",
          "data": {
            "text/plain": [
              "<Figure size 800x600 with 2 Axes>"
            ],
            "image/png": "[encoded data removed]"
          },
          "metadata": {}
        },
        {
          "output_type": "stream",
          "name": "stdout",
          "text": [
            "\n",
            "Confusion Matrix Explained:\n",
            " - The diagonal cells (top-left to bottom-right) represent **CORRECT** predictions.\n",
            " - The off-diagonal cells represent **INCORRECT** predictions (e.g., a 'Judgment' document predicted as 'Notice').\n"
          ]
        }
      ]
    },
    {
      "cell_type": "code",
      "source": [
        "print(\"--- FINAL PREDICTION ON NEW DATA ---\")\n",
        "\n",
        "new_legal_texts = [\n",
        "    \"The client must sign the employment agreement immediately to finalize the terms.\", # Expected: Contract\n",
        "    \"The High Court has issued a final decision, upholding the verdict of the previous panel.\", # Expected: Judgment\n",
        "    \"A formal notice of injunction is served due to the violation of property rights.\", # Expected: Notice\n",
        "    \"The plaintiff's lawyer argued that the established precedent from the case of Roe v. Wade should apply.\", # Expected: Case Law\n",
        "]\n",
        "\n",
        "def predict_category(text_list, model, vectorizer):\n",
        "    \"\"\"Applies full pipeline (preprocess, transform, predict) to new texts.\"\"\"\n",
        "    results = []\n",
        "\n",
        "    for text in text_list:\n",
        "        # Preprocess the text\n",
        "        cleaned_text = preprocess_text(text)\n",
        "\n",
        "        # Transform the text\n",
        "        text_vectorized = vectorizer.transform([cleaned_text])\n",
        "\n",
        "        # Predict the category\n",
        "        prediction = model.predict(text_vectorized)[0]\n",
        "\n",
        "        results.append({\n",
        "            'Input Text Snippet': text[:70] + '...',\n",
        "            'Predicted Category': prediction\n",
        "        })\n",
        "\n",
        "    return pd.DataFrame(results)\n",
        "\n",
        "# Run prediction\n",
        "final_predictions_df = predict_category(new_legal_texts, svm_model, tfidf_vectorizer)\n",
        "\n",
        "print(\"\\nClassification Results:\")\n",
        "print(final_predictions_df)"
      ],
      "metadata": {
        "colab": {
          "base_uri": "https://localhost:8080/"
        },
        "id": "91_IkJkagyyy",
        "outputId": "2bfa78dc-50e9-498c-dd30-5132e23e1642"
      },
      "execution_count": null,
      "outputs": [
        {
          "output_type": "stream",
          "name": "stdout",
          "text": [
            "--- FINAL PREDICTION ON NEW DATA ---\n",
            "\n",
            "Classification Results:\n",
            "                                  Input Text Snippet Predicted Category\n",
            "0  The client must sign the employment agreement ...           Contract\n",
            "1  The High Court has issued a final decision, up...           Judgment\n",
            "2  A formal notice of injunction is served due to...             Notice\n",
            "3  The plaintiff's lawyer argued that the establi...           Case Law\n"
          ]
        }
      ]
    }
  ]
}